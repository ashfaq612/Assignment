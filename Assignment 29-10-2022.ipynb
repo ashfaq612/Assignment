{
 "cells": [
  {
   "cell_type": "markdown",
   "id": "1be005d7",
   "metadata": {},
   "source": [
    "### 1. Length of a string function "
   ]
  },
  {
   "cell_type": "code",
   "execution_count": 10,
   "id": "6d5e642e",
   "metadata": {},
   "outputs": [],
   "source": [
    "def leng(STR):\n",
    "    \n",
    "    count = 0\n",
    "    for i in STR:\n",
    "        count = count+1\n",
    "    return count   "
   ]
  },
  {
   "cell_type": "code",
   "execution_count": 11,
   "id": "d5284583",
   "metadata": {},
   "outputs": [
    {
     "data": {
      "text/plain": [
       "5"
      ]
     },
     "execution_count": 11,
     "metadata": {},
     "output_type": "execute_result"
    }
   ],
   "source": [
    "string = \"India\"\n",
    "leng(string)"
   ]
  },
  {
   "cell_type": "markdown",
   "id": "7de96bd2",
   "metadata": {},
   "source": [
    "### 2. Index of list element "
   ]
  },
  {
   "cell_type": "code",
   "execution_count": 27,
   "id": "e4b09eef",
   "metadata": {},
   "outputs": [],
   "source": [
    "def index(list):\n",
    "    \n",
    "    a = int(input(\"Give the element: \"))\n",
    "    # print(a)\n",
    "    \n",
    "    count = 0\n",
    "    for i in list:\n",
    "        if i == a:\n",
    "            break\n",
    "        count = count+1\n",
    "    return count       "
   ]
  },
  {
   "cell_type": "code",
   "execution_count": 28,
   "id": "be549d12",
   "metadata": {},
   "outputs": [
    {
     "name": "stdout",
     "output_type": "stream",
     "text": [
      "Give the element: 5\n"
     ]
    },
    {
     "data": {
      "text/plain": [
       "4"
      ]
     },
     "execution_count": 28,
     "metadata": {},
     "output_type": "execute_result"
    }
   ],
   "source": [
    "List = [1,2,3,4,5,6,7,8]\n",
    "index(List)"
   ]
  },
  {
   "cell_type": "markdown",
   "id": "af27b000",
   "metadata": {},
   "source": [
    "### 3. Function to write the ip address of the system "
   ]
  },
  {
   "cell_type": "code",
   "execution_count": 40,
   "id": "21faa7cf",
   "metadata": {},
   "outputs": [],
   "source": [
    "import socket\n",
    "def IP_add():\n",
    "    hname = socket.gethostname()\n",
    "    ip = socket.gethostbyname(hname)\n",
    "    print(f\"IP Address: {ip}\")    "
   ]
  },
  {
   "cell_type": "code",
   "execution_count": 41,
   "id": "7a24c03d",
   "metadata": {},
   "outputs": [
    {
     "name": "stdout",
     "output_type": "stream",
     "text": [
      "IP Address: 192.168.1.135\n"
     ]
    }
   ],
   "source": [
    "IP_add()"
   ]
  },
  {
   "cell_type": "markdown",
   "id": "f6ea14c8",
   "metadata": {},
   "source": [
    "### 4. Funtion to shutdown the pc"
   ]
  },
  {
   "cell_type": "code",
   "execution_count": null,
   "id": "829acdf1",
   "metadata": {},
   "outputs": [],
   "source": []
  },
  {
   "cell_type": "markdown",
   "id": "86b1e420",
   "metadata": {},
   "source": [
    "### 5. Multiplication of numeric data in a list"
   ]
  },
  {
   "cell_type": "code",
   "execution_count": 54,
   "id": "4ff2660e",
   "metadata": {},
   "outputs": [],
   "source": [
    "def multiply(L):\n",
    "    prod = 1\n",
    "    \n",
    "    for i in L:\n",
    "        if type(i) == int or type(i) == float:\n",
    "            prod = prod*i\n",
    "        \n",
    "    return prod"
   ]
  },
  {
   "cell_type": "code",
   "execution_count": 55,
   "id": "10e5f7e3",
   "metadata": {},
   "outputs": [
    {
     "data": {
      "text/plain": [
       "459.19999999999993"
      ]
     },
     "execution_count": 55,
     "metadata": {},
     "output_type": "execute_result"
    }
   ],
   "source": [
    "list = [3.5,6.56,4,5,\"sudh\",\"ineuron\",\"fsda bootcamp 2.0\"]\n",
    "multiply(list)"
   ]
  },
  {
   "cell_type": "code",
   "execution_count": null,
   "id": "537a8204",
   "metadata": {},
   "outputs": [],
   "source": []
  }
 ],
 "metadata": {
  "kernelspec": {
   "display_name": "Python 3 (ipykernel)",
   "language": "python",
   "name": "python3"
  },
  "language_info": {
   "codemirror_mode": {
    "name": "ipython",
    "version": 3
   },
   "file_extension": ".py",
   "mimetype": "text/x-python",
   "name": "python",
   "nbconvert_exporter": "python",
   "pygments_lexer": "ipython3",
   "version": "3.9.12"
  }
 },
 "nbformat": 4,
 "nbformat_minor": 5
}
